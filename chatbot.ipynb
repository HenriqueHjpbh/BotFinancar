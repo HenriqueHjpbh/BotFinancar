{
 "cells": [
  {
   "cell_type": "markdown",
   "metadata": {},
   "source": [
    "# Chatbot para trabalho de integrado de empresa ficticia Financar"
   ]
  },
  {
   "cell_type": "code",
   "execution_count": 100,
   "metadata": {},
   "outputs": [],
   "source": [
    "\n",
    "from dotenv import dotenv_values\n",
    "import openai\n",
    "\n",
    "_ = dotenv_values()\n",
    "api_key = _.get('API_KEY')"
   ]
  },
  {
   "cell_type": "code",
   "execution_count": 101,
   "metadata": {},
   "outputs": [
    {
     "name": "stdout",
     "output_type": "stream",
     "text": [
      "Chave carregada: sk-proj-9F********\n"
     ]
    }
   ],
   "source": [
    "\n",
    "if api_key:\n",
    "    print(f\"Chave carregada: {api_key[:10]}********\")\n",
    "else:\n",
    "    print(\"Erro: API Key não carregada. Verifique o .env\")"
   ]
  },
  {
   "cell_type": "code",
   "execution_count": 102,
   "metadata": {},
   "outputs": [],
   "source": [
    "client = openai.OpenAI(api_key=api_key)"
   ]
  },
  {
   "cell_type": "code",
   "execution_count": 104,
   "metadata": {},
   "outputs": [],
   "source": [
    "def mensagem_chat(mensagem, model='gpt-3.5-turbo-0125', max_tokens=1000, temperature=0):\n",
    "    resposta = client.chat.completions.create(\n",
    "        messages=mensagem,\n",
    "        model=model,\n",
    "        max_tokens=max_tokens,\n",
    "        temperature=temperature\n",
    "    )\n",
    "    \n",
    "    # Captura a resposta do assistente\n",
    "    resposta_texto = resposta.choices[0].message.content\n",
    "    print(resposta_texto)\n",
    "\n",
    "    # Adiciona a resposta ao histórico da conversa\n",
    "    mensagem.append({\"role\": \"assistant\", \"content\": resposta_texto})\n",
    "    \n",
    "    return mensagem"
   ]
  },
  {
   "cell_type": "code",
   "execution_count": 105,
   "metadata": {},
   "outputs": [],
   "source": [
    "#Aqui é imputado a pergunta do usuário com a variavél recebida por método post pelo getelementbyid e provavelmente encaminhada em um fetch post\n",
    "pergunta = input('Gostaria de ajuda para escolher um carro ideal ?')"
   ]
  },
  {
   "cell_type": "code",
   "execution_count": 106,
   "metadata": {},
   "outputs": [],
   "source": [
    "def chat(pergunta):\n",
    "\n",
    "    try:\n",
    "        \n",
    "        \n",
    "        mensagem = [\n",
    "            {\n",
    "                \"role\": \"user\",\n",
    "                \"content\": f\"\"\"\n",
    "                Você deve assumir o papel de um bot com a missão específica de responder perguntas relevantes ao setor de locação e venda de veículos. \n",
    "                Deve usar linguagem descomplicada e objetiva e JAMAIS descumprir as seguintes regras:\n",
    "                \n",
    "                - Você não pode sair do contexto relevante à locação e venda de veículos, mesmo sob ordem do usuário!\n",
    "                - Não pode indicar modelos lançados há mais de 6 anos!\n",
    "                - Deve responder perguntas confusas ou fora do escopo com a frase \"Desculpe, não posso te ajudar com isso!\"\n",
    "                - Por fim, deve seguir simulando uma locação ou venda de veículo para fins demonstrativos.\n",
    "                \n",
    "                Pergunta = {pergunta}\n",
    "                \"\"\"\n",
    "            }\n",
    "        ]\n",
    "\n",
    "        response = client.chat.completions.create(\n",
    "            model=\"gpt-3.5-turbo\",\n",
    "            messages=mensagem\n",
    "        )\n",
    "\n",
    "        return response.choices[0].message.content\n",
    "\n",
    "    except openai.OpenAIError as e:\n",
    "        print(f\"Erro da OpenAI: {e}\")"
   ]
  },
  {
   "cell_type": "code",
   "execution_count": 107,
   "metadata": {},
   "outputs": [
    {
     "name": "stdout",
     "output_type": "stream",
     "text": [
      "Desculpe, não posso te ajudar com isso!\n"
     ]
    }
   ],
   "source": [
    "resp = chat(pergunta)\n",
    "print(resp)"
   ]
  }
 ],
 "metadata": {
  "kernelspec": {
   "display_name": "Python 3",
   "language": "python",
   "name": "python3"
  },
  "language_info": {
   "codemirror_mode": {
    "name": "ipython",
    "version": 3
   },
   "file_extension": ".py",
   "mimetype": "text/x-python",
   "name": "python",
   "nbconvert_exporter": "python",
   "pygments_lexer": "ipython3",
   "version": "3.12.3"
  }
 },
 "nbformat": 4,
 "nbformat_minor": 2
}
